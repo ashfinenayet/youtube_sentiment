{
 "cells": [
  {
   "cell_type": "code",
   "execution_count": 1,
   "metadata": {},
   "outputs": [],
   "source": [
    "import torch\n",
    "import pandas as pd\n",
    "from transformers import BertTokenizer, BertForSequenceClassification\n",
    "import numpy as np\n",
    "from sklearn.cluster import KMeans"
   ]
  },
  {
   "cell_type": "code",
   "execution_count": 2,
   "metadata": {},
   "outputs": [],
   "source": [
    "from youtube_transcript_api import YouTubeTranscriptApi\n",
    "video_id = 'S4lTtvlFvyk'\n",
    "transcript = YouTubeTranscriptApi.get_transcript(video_id)"
   ]
  },
  {
   "cell_type": "code",
   "execution_count": 3,
   "metadata": {},
   "outputs": [],
   "source": [
    "df = pd.DataFrame(transcript)"
   ]
  },
  {
   "cell_type": "code",
   "execution_count": 4,
   "metadata": {},
   "outputs": [
    {
     "name": "stderr",
     "output_type": "stream",
     "text": [
      "Some weights of the model checkpoint at bert-base-uncased were not used when initializing BertForSequenceClassification: ['cls.predictions.bias', 'cls.predictions.transform.LayerNorm.bias', 'cls.predictions.transform.LayerNorm.weight', 'cls.predictions.decoder.weight', 'cls.seq_relationship.bias', 'cls.predictions.transform.dense.weight', 'cls.seq_relationship.weight', 'cls.predictions.transform.dense.bias']\n",
      "- This IS expected if you are initializing BertForSequenceClassification from the checkpoint of a model trained on another task or with another architecture (e.g. initializing a BertForSequenceClassification model from a BertForPreTraining model).\n",
      "- This IS NOT expected if you are initializing BertForSequenceClassification from the checkpoint of a model that you expect to be exactly identical (initializing a BertForSequenceClassification model from a BertForSequenceClassification model).\n",
      "Some weights of BertForSequenceClassification were not initialized from the model checkpoint at bert-base-uncased and are newly initialized: ['classifier.bias', 'classifier.weight']\n",
      "You should probably TRAIN this model on a down-stream task to be able to use it for predictions and inference.\n"
     ]
    }
   ],
   "source": [
    "tokenizer = BertTokenizer.from_pretrained('bert-base-uncased')\n",
    "model = BertForSequenceClassification.from_pretrained('bert-base-uncased', output_hidden_states=True)"
   ]
  },
  {
   "cell_type": "code",
   "execution_count": 5,
   "metadata": {},
   "outputs": [
    {
     "name": "stderr",
     "output_type": "stream",
     "text": [
      "/var/folders/2_/dkxg0fq56mv06fxh6723qjn00000gn/T/ipykernel_18653/1113232145.py:7: UserWarning: Creating a tensor from a list of numpy.ndarrays is extremely slow. Please consider converting the list to a single numpy.ndarray with numpy.array() before converting to a tensor. (Triggered internally at /Users/runner/work/_temp/anaconda/conda-bld/pytorch_1670525699189/work/torch/csrc/utils/tensor_new.cpp:233.)\n",
      "  padded_corpus = torch.tensor(padded_corpus)\n"
     ]
    }
   ],
   "source": [
    "corpus = df['text'].tolist()\n",
    "\n",
    "encoded_corpus = [tokenizer.encode(text, add_special_tokens=True) for text in corpus]\n",
    "max_len = max([len(text) for text in encoded_corpus])\n",
    "\n",
    "padded_corpus = [np.pad(encoded_text, (0, max_len - len(encoded_text)), 'constant') for encoded_text in encoded_corpus]\n",
    "padded_corpus = torch.tensor(padded_corpus)"
   ]
  },
  {
   "cell_type": "code",
   "execution_count": 6,
   "metadata": {},
   "outputs": [],
   "source": [
    "with torch.no_grad():\n",
    "    outputs = model(padded_corpus)\n",
    "\n"
   ]
  },
  {
   "cell_type": "code",
   "execution_count": 7,
   "metadata": {},
   "outputs": [
    {
     "name": "stderr",
     "output_type": "stream",
     "text": [
      "No model was supplied, defaulted to distilbert-base-uncased-finetuned-sst-2-english and revision af0f99b (https://huggingface.co/distilbert-base-uncased-finetuned-sst-2-english).\n",
      "Using a pipeline without specifying a model name and revision in production is not recommended.\n"
     ]
    }
   ],
   "source": [
    "from transformers import pipeline\n",
    "\n",
    "SentimentClassifier = pipeline(\"sentiment-analysis\")"
   ]
  },
  {
   "cell_type": "code",
   "execution_count": 8,
   "metadata": {},
   "outputs": [
    {
     "data": {
      "text/plain": [
       "[{'label': 'NEGATIVE', 'score': 0.9997034668922424},\n",
       " {'label': 'POSITIVE', 'score': 0.9998235106468201},\n",
       " {'label': 'NEGATIVE', 'score': 0.9944382905960083}]"
      ]
     },
     "execution_count": 8,
     "metadata": {},
     "output_type": "execute_result"
    }
   ],
   "source": [
    "SentimentClassifier([\"I hope we get all these concepts! Its killing the neurons of our brain\",\n",
    "                     \"We had a nice experience in this trip\",\n",
    "                     \"Houston we have a problem\"\n",
    "                      ])"
   ]
  },
  {
   "cell_type": "code",
   "execution_count": 9,
   "metadata": {},
   "outputs": [
    {
     "data": {
      "text/plain": [
       "'NEGATIVE'"
      ]
     },
     "execution_count": 9,
     "metadata": {},
     "output_type": "execute_result"
    }
   ],
   "source": [
    "def FunctionBERTSentiment(inpText):\n",
    "    return(SentimentClassifier(inpText)[0]['label'])\n",
    "\n",
    "FunctionBERTSentiment(inpText=\"Houston we are fucked\")"
   ]
  },
  {
   "cell_type": "code",
   "execution_count": 10,
   "metadata": {},
   "outputs": [
    {
     "data": {
      "text/html": [
       "<div>\n",
       "<style scoped>\n",
       "    .dataframe tbody tr th:only-of-type {\n",
       "        vertical-align: middle;\n",
       "    }\n",
       "\n",
       "    .dataframe tbody tr th {\n",
       "        vertical-align: top;\n",
       "    }\n",
       "\n",
       "    .dataframe thead th {\n",
       "        text-align: right;\n",
       "    }\n",
       "</style>\n",
       "<table border=\"1\" class=\"dataframe\">\n",
       "  <thead>\n",
       "    <tr style=\"text-align: right;\">\n",
       "      <th></th>\n",
       "      <th>text</th>\n",
       "      <th>start</th>\n",
       "      <th>duration</th>\n",
       "      <th>Sentiment</th>\n",
       "    </tr>\n",
       "  </thead>\n",
       "  <tbody>\n",
       "    <tr>\n",
       "      <th>0</th>\n",
       "      <td>Point number one: When you hear someone longin...</td>\n",
       "      <td>13.250</td>\n",
       "      <td>8.430</td>\n",
       "      <td>POSITIVE</td>\n",
       "    </tr>\n",
       "    <tr>\n",
       "      <th>1</th>\n",
       "      <td>a grain of salt.</td>\n",
       "      <td>21.680</td>\n",
       "      <td>5.180</td>\n",
       "      <td>POSITIVE</td>\n",
       "    </tr>\n",
       "    <tr>\n",
       "      <th>2</th>\n",
       "      <td>Take it with a grain of salt.</td>\n",
       "      <td>26.860</td>\n",
       "      <td>4.240</td>\n",
       "      <td>POSITIVE</td>\n",
       "    </tr>\n",
       "    <tr>\n",
       "      <th>3</th>\n",
       "      <td>We live in a great nation and we are rightly\\n...</td>\n",
       "      <td>31.100</td>\n",
       "      <td>4.940</td>\n",
       "      <td>POSITIVE</td>\n",
       "    </tr>\n",
       "    <tr>\n",
       "      <th>4</th>\n",
       "      <td>We are beneficiaries of the labor and the\\ngri...</td>\n",
       "      <td>36.040</td>\n",
       "      <td>4.650</td>\n",
       "      <td>POSITIVE</td>\n",
       "    </tr>\n",
       "    <tr>\n",
       "      <th>5</th>\n",
       "      <td>before.</td>\n",
       "      <td>40.690</td>\n",
       "      <td>2.829</td>\n",
       "      <td>NEGATIVE</td>\n",
       "    </tr>\n",
       "    <tr>\n",
       "      <th>6</th>\n",
       "      <td>But I guess it’s part of human nature, especia...</td>\n",
       "      <td>43.519</td>\n",
       "      <td>5.130</td>\n",
       "      <td>POSITIVE</td>\n",
       "    </tr>\n",
       "    <tr>\n",
       "      <th>7</th>\n",
       "      <td>to look backwards and long for some imaginary\\...</td>\n",
       "      <td>48.649</td>\n",
       "      <td>7.881</td>\n",
       "      <td>NEGATIVE</td>\n",
       "    </tr>\n",
       "    <tr>\n",
       "      <th>8</th>\n",
       "      <td>hummed, and all politicians were wise, and\\nev...</td>\n",
       "      <td>56.530</td>\n",
       "      <td>6.631</td>\n",
       "      <td>POSITIVE</td>\n",
       "    </tr>\n",
       "    <tr>\n",
       "      <th>9</th>\n",
       "      <td>pretty much did whatever it wanted around\\nthe...</td>\n",
       "      <td>63.161</td>\n",
       "      <td>4.289</td>\n",
       "      <td>POSITIVE</td>\n",
       "    </tr>\n",
       "  </tbody>\n",
       "</table>\n",
       "</div>"
      ],
      "text/plain": [
       "                                                text   start  duration  \\\n",
       "0  Point number one: When you hear someone longin...  13.250     8.430   \n",
       "1                                   a grain of salt.  21.680     5.180   \n",
       "2                      Take it with a grain of salt.  26.860     4.240   \n",
       "3  We live in a great nation and we are rightly\\n...  31.100     4.940   \n",
       "4  We are beneficiaries of the labor and the\\ngri...  36.040     4.650   \n",
       "5                                            before.  40.690     2.829   \n",
       "6  But I guess it’s part of human nature, especia...  43.519     5.130   \n",
       "7  to look backwards and long for some imaginary\\...  48.649     7.881   \n",
       "8  hummed, and all politicians were wise, and\\nev...  56.530     6.631   \n",
       "9  pretty much did whatever it wanted around\\nthe...  63.161     4.289   \n",
       "\n",
       "  Sentiment  \n",
       "0  POSITIVE  \n",
       "1  POSITIVE  \n",
       "2  POSITIVE  \n",
       "3  POSITIVE  \n",
       "4  POSITIVE  \n",
       "5  NEGATIVE  \n",
       "6  POSITIVE  \n",
       "7  NEGATIVE  \n",
       "8  POSITIVE  \n",
       "9  POSITIVE  "
      ]
     },
     "execution_count": 10,
     "metadata": {},
     "output_type": "execute_result"
    }
   ],
   "source": [
    "df['Sentiment'] = df['text'].apply(FunctionBERTSentiment)\n",
    "df.head(10)"
   ]
  },
  {
   "cell_type": "code",
   "execution_count": 12,
   "metadata": {},
   "outputs": [
    {
     "data": {
      "text/plain": [
       "<Axes: >"
      ]
     },
     "execution_count": 12,
     "metadata": {},
     "output_type": "execute_result"
    },
    {
     "data": {
      "image/png": "[encoded data removed]",
      "text/plain": [
       "<Figure size 1000x400 with 2 Axes>"
      ]
     },
     "metadata": {},
     "output_type": "display_data"
    }
   ],
   "source": [
    "import matplotlib.pyplot as plt\n",
    "fig, subPlot =plt.subplots(nrows=1, ncols=2, figsize=(10,4))\n",
    "fig.suptitle(\"Sentiment analysis of Obama's Speech\")\n",
    " \n",
    "# Grouping the data\n",
    "GroupedData=df.groupby('Sentiment').size()\n",
    " \n",
    "# Creating the charts\n",
    "GroupedData.plot(kind='bar', ax=subPlot[0], color=['crimson', 'lightblue'])\n",
    "GroupedData.plot(kind='pie', ax=subPlot[1], colors=['crimson', 'lightblue'], autopct='%1.1f%%')"
   ]
  }
 ],
 "metadata": {
  "kernelspec": {
   "display_name": "Python 3",
   "language": "python",
   "name": "python3"
  },
  "language_info": {
   "codemirror_mode": {
    "name": "ipython",
    "version": 3
   },
   "file_extension": ".py",
   "mimetype": "text/x-python",
   "name": "python",
   "nbconvert_exporter": "python",
   "pygments_lexer": "ipython3",
   "version": "3.10.9"
  },
  "orig_nbformat": 4
 },
 "nbformat": 4,
 "nbformat_minor": 2
}
