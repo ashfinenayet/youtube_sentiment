{
 "cells": [
  {
   "cell_type": "code",
   "execution_count": 1,
   "metadata": {},
   "outputs": [
    {
     "name": "stderr",
     "output_type": "stream",
     "text": [
      "[nltk_data] Downloading package stopwords to /Users/ashfi/nltk_data...\n",
      "[nltk_data]   Package stopwords is already up-to-date!\n",
      "[nltk_data] Downloading package punkt to /Users/ashfi/nltk_data...\n",
      "[nltk_data]   Package punkt is already up-to-date!\n",
      "[nltk_data] Downloading package wordnet to /Users/ashfi/nltk_data...\n",
      "[nltk_data]   Package wordnet is already up-to-date!\n"
     ]
    }
   ],
   "source": [
    "import torch\n",
    "import pandas as pd\n",
    "from transformers import BertTokenizer, BertForSequenceClassification\n",
    "import numpy as np\n",
    "from sklearn.cluster import KMeans\n",
    "from sklearn.model_selection import train_test_split\n",
    "import text2emotion as te"
   ]
  },
  {
   "cell_type": "code",
   "execution_count": 2,
   "metadata": {},
   "outputs": [],
   "source": [
    "from youtube_transcript_api import YouTubeTranscriptApi\n",
    "video_id = 'S4lTtvlFvyk'\n",
    "transcript = YouTubeTranscriptApi.get_transcript(video_id)"
   ]
  },
  {
   "cell_type": "code",
   "execution_count": 3,
   "metadata": {},
   "outputs": [],
   "source": [
    "df = pd.DataFrame(transcript)"
   ]
  },
  {
   "cell_type": "code",
   "execution_count": 4,
   "metadata": {},
   "outputs": [
    {
     "name": "stdout",
     "output_type": "stream",
     "text": [
      "Point number one: When you hear someone longing\n",
      "for the “good old days,” take it with a grain of salt. Take it with a grain of salt. We live in a great nation and we are rightly\n",
      "proud of our history. We are beneficiaries of the labor and the\n",
      "grit and the courage of generations who came before. But I guess it’s part of human nature, especially\n",
      "in times of change and uncertainty, to want to look backwards and long for some imaginary\n",
      "past when everything worked, and the economy hummed, and all politicians were wise, and\n",
      "every child was well-mannered, and America pretty much did whatever it wanted around\n",
      "the world. Guess what. It ain’t so. The “good old days” weren’t that good. Yes, there have been some stretches in our\n",
      "history where the economy grew much faster, or when government ran more smoothly. There were moments when, immediately after\n",
      "World War II, for example, or the end of the Cold War, when the world bent more easily\n",
      "to our will. But those are sporadic, those moments, those\n",
      "episodes. In fact, by almost every measure, America\n",
      "is better, and the world is better, than it was 50 years ago, or 30 years ago, or even\n",
      "eight years ago. And by the way, I’m not — set aside 150\n",
      "years ago, pre-Civil War — there’s a whole bunch of stuff there we could talk about. Set aside life in the ‘50s, when women and\n",
      "people of color were systematically excluded from big chunks of American life. Since I graduated, in 1983 — which isn’t\n",
      "that long ago — I’m just saying. Since I graduated, crime rates, teenage pregnancy,\n",
      "the share of Americans living in poverty — they’re all down. The share of Americans with college educations\n",
      "have gone way up. Our life expectancy has, as well. Blacks and Latinos have risen up the ranks\n",
      "in business and politics. More women are in the workforce. They’re earning more money — although\n",
      "it’s long past time that we passed laws to make sure that women are getting the same\n",
      "pay for the same work as men. Meanwhile, in the eight years since most of\n",
      "you started high school, we’re also better off. You and your fellow graduates are entering\n",
      "the job market with better prospects than any time since 2007. Twenty million more Americans know the financial\n",
      "security of health insurance. We’re less dependent on foreign oil. We’ve doubled the production of clean energy. We have cut the high school dropout rate. We’ve cut the deficit by two-thirds. Marriage equality is the law of the land. And just as America is better, the world is\n",
      "better than when I graduated. Since I graduated, an Iron Curtain fell, apartheid\n",
      "ended. There’s more democracy. We virtually eliminated certain diseases like\n",
      "polio. We’ve cut extreme poverty drastically. We’ve cut infant mortality by an enormous\n",
      "amount. Now, I say all these things not to make you\n",
      "complacent. We’ve got a bunch of big problems to solve. But I say it to point out that change has\n",
      "been a constant in our history. And the reason America is better is because\n",
      "we didn’t look backwards we didn’t fear the future. We seized the future and made it our own. And that’s exactly why it’s always been\n",
      "young people like you that have brought about big change — because you don’t fear the\n",
      "future. That leads me to my second point: The world\n",
      "is more interconnected than ever before, and it’s becoming more connected every day. Building walls won’t change that. Look, as President, my first responsibility\n",
      "is always the security and prosperity of the United States. And as citizens, we all rightly put our country\n",
      "first. But if the past two decades have taught us\n",
      "anything, it’s that the biggest challenges we face cannot be solved in isolation. When overseas states start falling apart,\n",
      "they become breeding grounds for terrorists and ideologies of nihilism and despair that\n",
      "ultimately can reach our shores. When developing countries don’t have functioning\n",
      "health systems, epidemics like Zika or Ebola can spread and threaten Americans, too. And a wall won’t stop that. If we want to close loopholes that allow large\n",
      "corporations and wealthy individuals to avoid paying their fair share of taxes, we’ve\n",
      "got to have the cooperation of other countries in a global financial system to help enforce\n",
      "financial laws. The point is, to help ourselves we’ve got\n",
      "to help others — not pull up the drawbridge and try to keep the world out. And engagement does not just mean deploying\n",
      "our military. There are times where we must take military\n",
      "action to protect ourselves and our allies, and we are in awe of and we are grateful for\n",
      "the men and women who make up the finest fighting force the world has ever known. But I worry if we think that the entire burden\n",
      "of our engagement with the world is up to the 1 percent who serve in our military, and\n",
      "the rest of us can just sit back and do nothing. They can’t shoulder the entire burden. And engagement means using all the levers\n",
      "of our national power, and rallying the world to take on our shared challenges. You look at something like trade, for example. We live in an age of global supply chains,\n",
      "and cargo ships that crisscross oceans, and online commerce that can render borders obsolete. And a lot of folks have legitimate concerns\n",
      "with the way globalization has progressed — that’s one of the changes that’s been\n",
      "taking place — jobs shipped overseas, trade deals that sometimes put workers and businesses\n",
      "at a disadvantage. But the answer isn’t to stop trading with\n",
      "other countries. In this global economy, that’s not even\n",
      "possible. The answer is to do trade the right way, by\n",
      "negotiating with other countries so that they raise their labor standards and their environmental\n",
      "standards; and we make sure they don’t impose unfair tariffs on American goods or steal\n",
      "American intellectual property. That’s how we make sure that international\n",
      "rules are consistent with our values — including human rights. And ultimately, that’s how we help raise\n",
      "wages here in America. That’s how we help our workers compete on\n",
      "a level playing field. Building walls won’t do that. It won’t boost our economy, and it won’t\n",
      "enhance our security either. Isolating or disparaging Muslims, suggesting\n",
      "that they should be treated differently when it comes to entering this country — that\n",
      "is not just a betrayal of our values — that’s not just a betrayal of who we are, it would\n",
      "alienate the very communities at home and abroad who are our most important partners\n",
      "in the fight against violent extremism. Suggesting that we can build an endless wall\n",
      "along our borders, and blame our challenges on immigrants — that doesn’t just run\n",
      "counter to our history as the world’s melting pot; it contradicts the evidence that our\n",
      "growth and our innovation and our dynamism has always been spurred by our ability to\n",
      "attract strivers from every corner of the globe. That’s how we became America. Why would we want to stop it now? AUDIENCE MEMBER: Four more years! Can’t do it. Which brings me to my third point: Facts,\n",
      "evidence, reason, logic, an understanding of science — these are good things. These are qualities you want in people making\n",
      "policy. These are qualities you want to continue to\n",
      "cultivate in yourselves as citizens. That might seem obvious. That’s why we honor Bill Moyers or Dr. Burnell. We traditionally have valued those things. But if you were listening to today’s political\n",
      "debate, you might wonder where this strain of anti-intellectualism came from. So, Class of 2016, let me be as clear as I\n",
      "can be. In politics and in life, ignorance is not\n",
      "a virtue. It’s not cool to not know what you’re\n",
      "talking about. That’s not keeping it real, or telling it\n",
      "like it is. That’s not challenging political correctness. That’s just not knowing what you’re talking\n",
      "about. And yet, we’ve become confused about this. Look, our nation’s Founders — Franklin,\n",
      "Madison, Hamilton, Jefferson — they were born of the Enlightenment. They sought to escape superstition, and sectarianism,\n",
      "and tribalism, and no-nothingness. They believed in rational thought and experimentation,\n",
      "and the capacity of informed citizens to master our own fates. That is embedded in our constitutional design. That spirit informed our inventors and our\n",
      "explorers, the Edisons and the Wright Brothers, and the George Washington Carvers and the\n",
      "Grace Hoppers, and the Norman Borlaugs and the Steve Jobses. That’s what built this country. And today, in every phone in one of your pockets\n",
      "— we have access to more information than at any time in human history, at a touch of\n",
      "a button. But, ironically, the flood of information\n",
      "hasn’t made us more discerning of the truth. In some ways, it’s just made us more confident\n",
      "in our ignorance. We assume whatever is on the web must be true. We search for sites that just reinforce our\n",
      "own predispositions. Opinions masquerade as facts. The wildest conspiracy theories are taken\n",
      "for gospel. Now, understand, I am sure you’ve learned\n",
      "during your years of college — and if not, you will learn soon — that there are a whole\n",
      "lot of folks who are book smart and have no common sense. That’s the truth. You’ll meet them if you haven’t already. So the fact that they’ve got a fancy degree\n",
      "— you got to talk to them to see whether they know what they’re talking about. Qualities like kindness and compassion, honesty,\n",
      "hard work — they often matter more than technical skills or know-how. But when our leaders express a disdain for\n",
      "facts, when they’re not held accountable for repeating falsehoods and just making stuff\n",
      "up, while actual experts are dismissed as elitists, then we’ve got a problem. You know, it’s interesting that if we get\n",
      "sick, we actually want to make sure the doctors have gone to medical school, they know what\n",
      "they’re talking about. If we get on a plane, we say we really want\n",
      "a pilot to be able to pilot the plane. And yet, in our public lives, we certainly\n",
      "think, “I don’t want somebody who’s done it before.” The rejection of facts, the rejection of reason\n",
      "and science — that is the path to decline. It calls to mind the words of Carl Sagan,\n",
      "who graduated high school here in New Jersey — he said: “We can judge our progress\n",
      "by the courage of our questions and the depths of our answers, our willingness to embrace\n",
      "what is true rather than what feels good.” The debate around climate change is a perfect\n",
      "example of this. Now, I recognize it doesn’t feel like the\n",
      "planet is warmer right now. I understand. There was hail when I landed in Newark. But think about the climate change issue. Every day, there are officials in high office\n",
      "with responsibilities who mock the overwhelming consensus of the world’s scientists that\n",
      "human activities and the release of carbon dioxide and methane and other substances are\n",
      "altering our climate in profound and dangerous ways. A while back, you may have seen a United States\n",
      "senator trotted out a snowball during a floor speech in the middle of winter as “proof”\n",
      "that the world was not warming. I mean, listen, climate change is not something\n",
      "subject to political spin. There is evidence. There are facts. We can see it happening right now. If we don’t act, if we don’t follow through\n",
      "on the progress we made in Paris, the progress we’ve been making here at home, your generation\n",
      "will feel the brunt of this catastrophe. So it’s up to you to insist upon and shape\n",
      "an informed debate. Imagine if Benjamin Franklin had seen that\n",
      "senator with the snowball, what he would think. Imagine if your 5th grade science teacher\n",
      "had seen that. He’d get a D. And he’s a senator! Look, I’m not suggesting that cold analysis\n",
      "and hard data are ultimately more important in life than passion, or faith, or love, or\n",
      "loyalty. I am suggesting that those highest expressions\n",
      "of our humanity can only flourish when our economy functions well, and proposed budgets\n",
      "add up, and our environment is protected. And to accomplish those things, to make collective\n",
      "decisions on behalf of a common good, we have to use our heads. We have to agree that facts and evidence matter. And we got to hold our leaders and ourselves\n",
      "accountable to know what the heck they’re talking about. All right. I only have two more points. I know it’s getting cold and you guys have\n",
      "to graduate. Point four: Have faith in democracy. Look, I know it’s not always pretty. Really, I know. I’ve been living it. But it’s how, bit by bit, generation by\n",
      "generation, we have made progress in this nation. That’s how we banned child labor. That’s how we cleaned up our air and our\n",
      "water. That’s how we passed programs like Social\n",
      "Security and Medicare that lifted millions of seniors out of poverty. None of these changes happened overnight. They didn’t happen because some charismatic\n",
      "leader got everybody suddenly to agree on everything. It didn’t happen because some massive political\n",
      "revolution occurred. It actually happened over the course of years\n",
      "of advocacy, and organizing, and alliance-building, and deal-making, and the changing of public\n",
      "opinion. It happened because ordinary Americans who\n",
      "cared participated in the political process. AUDIENCE MEMBER: Because of you! Well, that’s nice. I mean, I helped, but —\n",
      "Look, if you want to change this country for the better, you better start participating. I’ll give you an example on a lot of people’s\n",
      "minds right now — and that’s the growing inequality in our economy. Over much of the last century, we’ve unleashed\n",
      "the strongest economic engine the world has ever seen, but over the past few decades,\n",
      "our economy has become more and more unequal. The top 10 percent of earners now take in\n",
      "half of all income in the U.S. In the past, it used to be a top CEO made\n",
      "20 or 30 times the income of the average worker. Today, it’s 300 times more. And wages aren’t rising fast enough for\n",
      "millions of hardworking families. Now, if we want to reverse those trends, there\n",
      "are a bunch of policies that would make a real difference. We can raise the minimum wage. We can modernize our infrastructure. We can invest in early childhood education. We can make college more affordable. We can close tax loopholes on hedge fund managers\n",
      "and take that money and give tax breaks to help families with child care or retirement. And if we did these things, then we’d help\n",
      "to restore the sense that hard work is rewarded and we could build an economy that truly works\n",
      "for everybody. Now, the reason some of these things have\n",
      "not happened, even though the majority of people approve of them, is really simple. It’s not because I wasn’t proposing them. It wasn’t because the facts and the evidence\n",
      "showed they wouldn’t work. It was because a huge chunk of Americans,\n",
      "especially young people, do not vote. In 2014, voter turnout was the lowest since\n",
      "World War II. Fewer than one in five young people showed\n",
      "up to vote — 2014. And the four who stayed home determined the\n",
      "course of this country just as much as the single one who voted. Because apathy has consequences. It determines who our Congress is. It determines what policies they prioritize. It even, for example, determines whether a\n",
      "really highly qualified Supreme Court nominee receives the courtesy of a hearing and a vote\n",
      "in the United States Senate. And, yes, big money in politics is a huge\n",
      "problem. We’ve got to reduce its influence. Yes, special interests and lobbyists have\n",
      "disproportionate access to the corridors of power. But, contrary to what we hear sometimes from\n",
      "both the left as well as the right, the system isn’t as rigged as you think, and it certainly\n",
      "is not as hopeless as you think. Politicians care about being elected, and\n",
      "they especially care about being reelected. And if you vote and you elect a majority that\n",
      "represents your views, you will get what you want. And if you opt out, or stop paying attention,\n",
      "you won’t. It’s that simple. It’s not that complicated. Now, one of the reasons that people don’t\n",
      "vote is because they don’t see the changes they were looking for right away. Well, guess what — none of the great strides\n",
      "in our history happened right away. It took Thurgood Marshall and the NAACP decades\n",
      "to win Brown vs. Board of Education; and then another decade after that to secure the Civil\n",
      "Rights Act and the Voting Rights Act. And it took more time after that for it to\n",
      "start working. It took a proud daughter of New Jersey, Alice\n",
      "Paul, years of organizing marches and hunger strikes and protests, and drafting hundreds\n",
      "of pieces of legislation, and writing letters and giving speeches, and working with congressional\n",
      "leaders before she and other suffragettes finally helped win women the right to vote. Each stage along the way required compromise. Sometimes you took half a loaf. You forged allies. Sometimes you lost on an issue, and then you\n",
      "came back to fight another day. That’s how democracy works. So you’ve got to be committed to participating\n",
      "not just if you get immediate gratification, but you got to be a citizen full-time, all\n",
      "the time. And if participation means voting, and it\n",
      "means compromise, and organizing and advocacy, it also means listening to those who don’t\n",
      "agree with you. I know a couple years ago, folks on this campus\n",
      "got upset that Condoleezza Rice was supposed to speak at a commencement. Now, I don’t think it’s a secret that\n",
      "I disagree with many of the foreign policies of Dr. Rice and the previous administration. But the notion that this community or the\n",
      "country would be better served by not hearing from a former Secretary of State, or shutting\n",
      "out what she had to say — I believe that’s misguided. I don’t think that’s how democracy works\n",
      "best, when we’re not even willing to listen to each other. I believe that’s misguided. If you disagree with somebody, bring them\n",
      "in — and ask them tough questions. Hold their feet to the fire. Make them defend their positions. If somebody has got a bad or offensive idea,\n",
      "prove it wrong. Engage it. Debate it. Stand up for what you believe in. Don’t be scared to take somebody on. Don’t feel like you got to shut your ears\n",
      "off because you’re too fragile and somebody might offend your sensibilities. Go at them if they’re not making any sense. Use your logic and reason and words. And by doing so, you’ll strengthen your\n",
      "own position, and you’ll hone your arguments. And maybe you’ll learn something and realize\n",
      "you don’t know everything. And you may have a new understanding not only\n",
      "about what your opponents believe but maybe what you believe. Either way, you win. And more importantly, our democracy wins. So, anyway, all right. That’s it, Class of 2016 — a few suggestions\n",
      "on how you can change the world. Except maybe I’ve got one last suggestion. Just one. And that is, gear yourself for the long haul. Whatever path you choose — business, nonprofits,\n",
      "government, education, health care, the arts — whatever it is, you’re going to have\n",
      "some setbacks. You will deal occasionally with foolish people. You will be frustrated. You’ll have a boss that’s not great. You won’t always get everything you want\n",
      "— at least not as fast as you want it. So you have to stick with it. You have to be persistent. And success, however small, however incomplete,\n",
      "success is still success. I always tell my daughters, you know, better\n",
      "is good. It may not be perfect, it may not be great,\n",
      "but it’s good. That’s how progress happens — in societies\n",
      "and in our own lives. So don’t lose hope if sometimes you hit\n",
      "a roadblock. Don’t lose hope in the face of naysayers. And certainly don’t let resistance make\n",
      "you cynical. Cynicism is so easy, and cynics don’t accomplish\n",
      "much. As a friend of mine who happens to be from\n",
      "New Jersey, a guy named Bruce Springsteen, once sang — “they spend their lives waiting\n",
      "for a moment that just don’t come.” Don’t let that be you. Don’t waste your time waiting. If you doubt you can make a difference, look\n",
      "at the impact some of your fellow graduates are already making. Look at what Matthew is doing. Look at somebody like Yasmin Ramadan, who\n",
      "began organizing anti-bullying assemblies when she was 10 years old to help kids handle\n",
      "bias and discrimination, and here at Rutgers, helped found the Muslim Public Relations Council\n",
      "to work with administrators and police to promote inclusion. Look at somebody like Madison Little, who\n",
      "grew up dealing with some health issues, and started wondering what his care would have\n",
      "been like if he lived someplace else, and so, here at Rutgers, he took charge of a student\n",
      "nonprofit and worked with folks in Australia and Cambodia and Uganda to address the AIDS\n",
      "epidemic. “Our generation has so much energy to adapt\n",
      "and impact the world,” he said. “My peers give me a lot of hope that we’ll\n",
      "overcome the obstacles we face in society.” That’s you! Is it any wonder that I am optimistic? Throughout our history, a new generation of\n",
      "Americans has reached up and bent the arc of history in the direction of more freedom,\n",
      "and more opportunity, and more justice. And, Class of 2016, it is your turn now — to\n",
      "shape our nation’s destiny, as well as your own. So get to work. Make sure the next 250 years are better than\n",
      "the last. Good luck. God bless you. God bless this country we love. Thank you.\n"
     ]
    }
   ],
   "source": [
    "merged_str = df['text'].str.cat(sep=' ')\n",
    "print(merged_str)"
   ]
  },
  {
   "cell_type": "code",
   "execution_count": 7,
   "metadata": {},
   "outputs": [],
   "source": [
    "import re\n",
    "split_list = merged_str.split('.')\n",
    "df = pd.DataFrame({'text': split_list})"
   ]
  },
  {
   "cell_type": "code",
   "execution_count": 8,
   "metadata": {},
   "outputs": [
    {
     "name": "stderr",
     "output_type": "stream",
     "text": [
      "Some weights of the model checkpoint at bert-base-uncased were not used when initializing BertForSequenceClassification: ['cls.seq_relationship.weight', 'cls.predictions.transform.dense.weight', 'cls.predictions.decoder.weight', 'cls.predictions.bias', 'cls.predictions.transform.dense.bias', 'cls.predictions.transform.LayerNorm.bias', 'cls.predictions.transform.LayerNorm.weight', 'cls.seq_relationship.bias']\n",
      "- This IS expected if you are initializing BertForSequenceClassification from the checkpoint of a model trained on another task or with another architecture (e.g. initializing a BertForSequenceClassification model from a BertForPreTraining model).\n",
      "- This IS NOT expected if you are initializing BertForSequenceClassification from the checkpoint of a model that you expect to be exactly identical (initializing a BertForSequenceClassification model from a BertForSequenceClassification model).\n",
      "Some weights of BertForSequenceClassification were not initialized from the model checkpoint at bert-base-uncased and are newly initialized: ['classifier.weight', 'classifier.bias']\n",
      "You should probably TRAIN this model on a down-stream task to be able to use it for predictions and inference.\n"
     ]
    }
   ],
   "source": [
    "tokenizer = BertTokenizer.from_pretrained('bert-base-uncased')\n",
    "model = BertForSequenceClassification.from_pretrained('bert-base-uncased', output_hidden_states=True)"
   ]
  },
  {
   "cell_type": "code",
   "execution_count": 9,
   "metadata": {},
   "outputs": [
    {
     "name": "stderr",
     "output_type": "stream",
     "text": [
      "/var/folders/2_/dkxg0fq56mv06fxh6723qjn00000gn/T/ipykernel_6521/1113232145.py:7: UserWarning: Creating a tensor from a list of numpy.ndarrays is extremely slow. Please consider converting the list to a single numpy.ndarray with numpy.array() before converting to a tensor. (Triggered internally at /Users/runner/work/_temp/anaconda/conda-bld/pytorch_1670525699189/work/torch/csrc/utils/tensor_new.cpp:233.)\n",
      "  padded_corpus = torch.tensor(padded_corpus)\n"
     ]
    }
   ],
   "source": [
    "corpus = df['text'].tolist()\n",
    "\n",
    "encoded_corpus = [tokenizer.encode(text, add_special_tokens=True) for text in corpus]\n",
    "max_len = max([len(text) for text in encoded_corpus])\n",
    "\n",
    "padded_corpus = [np.pad(encoded_text, (0, max_len - len(encoded_text)), 'constant') for encoded_text in encoded_corpus]\n",
    "padded_corpus = torch.tensor(padded_corpus)"
   ]
  },
  {
   "cell_type": "code",
   "execution_count": 10,
   "metadata": {},
   "outputs": [],
   "source": [
    "with torch.no_grad():\n",
    "    outputs = model(padded_corpus)\n",
    "\n"
   ]
  },
  {
   "cell_type": "code",
   "execution_count": 11,
   "metadata": {},
   "outputs": [
    {
     "name": "stderr",
     "output_type": "stream",
     "text": [
      "No model was supplied, defaulted to distilbert-base-uncased-finetuned-sst-2-english and revision af0f99b (https://huggingface.co/distilbert-base-uncased-finetuned-sst-2-english).\n",
      "Using a pipeline without specifying a model name and revision in production is not recommended.\n"
     ]
    }
   ],
   "source": [
    "from transformers import pipeline\n",
    "\n",
    "SentimentClassifier = pipeline(\"sentiment-analysis\")"
   ]
  },
  {
   "cell_type": "code",
   "execution_count": 12,
   "metadata": {},
   "outputs": [
    {
     "data": {
      "text/plain": [
       "[{'label': 'NEGATIVE', 'score': 0.9997034668922424},\n",
       " {'label': 'POSITIVE', 'score': 0.9998235106468201},\n",
       " {'label': 'NEGATIVE', 'score': 0.9944382905960083}]"
      ]
     },
     "execution_count": 12,
     "metadata": {},
     "output_type": "execute_result"
    }
   ],
   "source": [
    "SentimentClassifier([\"I hope we get all these concepts! Its killing the neurons of our brain\",\n",
    "                     \"We had a nice experience in this trip\",\n",
    "                     \"Houston we have a problem\"\n",
    "                      ])"
   ]
  },
  {
   "cell_type": "code",
   "execution_count": 13,
   "metadata": {},
   "outputs": [
    {
     "data": {
      "text/plain": [
       "'NEGATIVE'"
      ]
     },
     "execution_count": 13,
     "metadata": {},
     "output_type": "execute_result"
    }
   ],
   "source": [
    "def FunctionBERTSentiment(inpText):\n",
    "    return(SentimentClassifier(inpText)[0]['label'])\n",
    "\n",
    "FunctionBERTSentiment(inpText=\"Houston we are fucked\")"
   ]
  },
  {
   "cell_type": "code",
   "execution_count": 14,
   "metadata": {},
   "outputs": [
    {
     "data": {
      "text/html": [
       "<div>\n",
       "<style scoped>\n",
       "    .dataframe tbody tr th:only-of-type {\n",
       "        vertical-align: middle;\n",
       "    }\n",
       "\n",
       "    .dataframe tbody tr th {\n",
       "        vertical-align: top;\n",
       "    }\n",
       "\n",
       "    .dataframe thead th {\n",
       "        text-align: right;\n",
       "    }\n",
       "</style>\n",
       "<table border=\"1\" class=\"dataframe\">\n",
       "  <thead>\n",
       "    <tr style=\"text-align: right;\">\n",
       "      <th></th>\n",
       "      <th>text</th>\n",
       "      <th>Sentiment</th>\n",
       "    </tr>\n",
       "  </thead>\n",
       "  <tbody>\n",
       "    <tr>\n",
       "      <th>0</th>\n",
       "      <td>Point number one: When you hear someone longin...</td>\n",
       "      <td>POSITIVE</td>\n",
       "    </tr>\n",
       "    <tr>\n",
       "      <th>1</th>\n",
       "      <td>Take it with a grain of salt</td>\n",
       "      <td>POSITIVE</td>\n",
       "    </tr>\n",
       "    <tr>\n",
       "      <th>2</th>\n",
       "      <td>We live in a great nation and we are rightly\\...</td>\n",
       "      <td>POSITIVE</td>\n",
       "    </tr>\n",
       "    <tr>\n",
       "      <th>3</th>\n",
       "      <td>We are beneficiaries of the labor and the\\ngr...</td>\n",
       "      <td>POSITIVE</td>\n",
       "    </tr>\n",
       "    <tr>\n",
       "      <th>4</th>\n",
       "      <td>But I guess it’s part of human nature, especi...</td>\n",
       "      <td>POSITIVE</td>\n",
       "    </tr>\n",
       "    <tr>\n",
       "      <th>5</th>\n",
       "      <td>Guess what</td>\n",
       "      <td>NEGATIVE</td>\n",
       "    </tr>\n",
       "    <tr>\n",
       "      <th>6</th>\n",
       "      <td>It ain’t so</td>\n",
       "      <td>NEGATIVE</td>\n",
       "    </tr>\n",
       "    <tr>\n",
       "      <th>7</th>\n",
       "      <td>The “good old days” weren’t that good</td>\n",
       "      <td>NEGATIVE</td>\n",
       "    </tr>\n",
       "    <tr>\n",
       "      <th>8</th>\n",
       "      <td>Yes, there have been some stretches in our\\nh...</td>\n",
       "      <td>NEGATIVE</td>\n",
       "    </tr>\n",
       "    <tr>\n",
       "      <th>9</th>\n",
       "      <td>There were moments when, immediately after\\nW...</td>\n",
       "      <td>POSITIVE</td>\n",
       "    </tr>\n",
       "  </tbody>\n",
       "</table>\n",
       "</div>"
      ],
      "text/plain": [
       "                                                text Sentiment\n",
       "0  Point number one: When you hear someone longin...  POSITIVE\n",
       "1                       Take it with a grain of salt  POSITIVE\n",
       "2   We live in a great nation and we are rightly\\...  POSITIVE\n",
       "3   We are beneficiaries of the labor and the\\ngr...  POSITIVE\n",
       "4   But I guess it’s part of human nature, especi...  POSITIVE\n",
       "5                                         Guess what  NEGATIVE\n",
       "6                                        It ain’t so  NEGATIVE\n",
       "7              The “good old days” weren’t that good  NEGATIVE\n",
       "8   Yes, there have been some stretches in our\\nh...  NEGATIVE\n",
       "9   There were moments when, immediately after\\nW...  POSITIVE"
      ]
     },
     "execution_count": 14,
     "metadata": {},
     "output_type": "execute_result"
    }
   ],
   "source": [
    "df['Sentiment'] = df['text'].apply(FunctionBERTSentiment)\n",
    "df.head(10)"
   ]
  },
  {
   "cell_type": "code",
   "execution_count": 15,
   "metadata": {},
   "outputs": [
    {
     "data": {
      "text/plain": [
       "<Axes: >"
      ]
     },
     "execution_count": 15,
     "metadata": {},
     "output_type": "execute_result"
    },
    {
     "data": {
      "image/png": "[encoded data removed]",
      "text/plain": [
       "<Figure size 1000x400 with 2 Axes>"
      ]
     },
     "metadata": {},
     "output_type": "display_data"
    }
   ],
   "source": [
    "import matplotlib.pyplot as plt\n",
    "fig, subPlot =plt.subplots(nrows=1, ncols=2, figsize=(10,4))\n",
    "fig.suptitle(\"Sentiment analysis of Obama's Speech\")\n",
    " \n",
    "# Grouping the data\n",
    "GroupedData=df.groupby('Sentiment').size()\n",
    " \n",
    "# Creating the charts\n",
    "GroupedData.plot(kind='bar', ax=subPlot[0], color=['crimson', 'lightblue'])\n",
    "GroupedData.plot(kind='pie', ax=subPlot[1], colors=['crimson', 'lightblue'], autopct='%1.1f%%')"
   ]
  }
 ],
 "metadata": {
  "kernelspec": {
   "display_name": "Python 3",
   "language": "python",
   "name": "python3"
  },
  "language_info": {
   "codemirror_mode": {
    "name": "ipython",
    "version": 3
   },
   "file_extension": ".py",
   "mimetype": "text/x-python",
   "name": "python",
   "nbconvert_exporter": "python",
   "pygments_lexer": "ipython3",
   "version": "3.10.9"
  },
  "orig_nbformat": 4
 },
 "nbformat": 4,
 "nbformat_minor": 2
}
